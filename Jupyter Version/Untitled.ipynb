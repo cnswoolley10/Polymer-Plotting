{
 "cells": [
  {
   "cell_type": "code",
   "execution_count": 1,
   "id": "5c44c6a2",
   "metadata": {},
   "outputs": [],
   "source": [
    "import PySimpleGUI as sg\n",
    "import polymer_chains as pc\n",
    "import GUI_tools as GUI"
   ]
  },
  {
   "cell_type": "code",
   "execution_count": 2,
   "id": "de3b3e3f",
   "metadata": {},
   "outputs": [
    {
     "name": "stdout",
     "output_type": "stream",
     "text": [
      "None\n"
     ]
    }
   ],
   "source": [
    "import PySimpleGUI as sg\n",
    "import polymer_chains as pc\n",
    "import GUI_tools as GUI\n",
    "\n",
    "# ------------------------------- PySimpleGUI CODE\n",
    "# define chain options for dropdown\n",
    "chain_options = GUI.chain_options\n",
    "\n",
    "# get help_text\n",
    "help_text = GUI.get_helptext()\n",
    "\n",
    "layout = [\n",
    "    [GUI.main_options_frame, GUI.output_frame],\n",
    "    [GUI.chain_options_frame, GUI.plotting_frame]]\n",
    "\n",
    "canvas_size = GUI.canvas_size\n",
    "chain_objects = GUI.chain_objects\n",
    "window = sg.Window('Polymer Plotting', layout, resizable=True)\n",
    "\n",
    "# Event loop for main window\n",
    "while True:\n",
    "    event, values = window.read()\n",
    "    print(event)\n",
    "    # close loop if window closed or exit button pressed\n",
    "    if event in (sg.WIN_CLOSED, 'Exit'):  # always,  always give a way out!\n",
    "        break\n",
    "    # plot chains if plot button is pressed\n",
    "    if event == 'Plot':\n",
    "        fig = pc.plot_chains(chain_objects)\n",
    "        DPI = fig.get_dpi()\n",
    "        fig.set_size_inches(canvas_size[0] / float(DPI), canvas_size[1] / float(DPI))\n",
    "        GUI.draw_figure_w_toolbar(window['fig_cv'].TKCanvas, fig, window['controls_cv'].TKCanvas)\n",
    "    # prevent input values being anything but integers\n",
    "    if event[-8:] == \"_length-\" and values[event] and values[event][-1] not in ('0123456789'):\n",
    "        window[event].update(values[event][:-1])\n",
    "    # RC: calculate coords and other chain values for chain object once it is confirmed\n",
    "    if event[-9:] == \"_confirm-\":\n",
    "        chain_index = GUI.get_chain_index(event)\n",
    "        GUI.confirm_chain(chain_objects, chain_index, values)\n",
    "    # RC: print the coords of the chain to the output box\n",
    "    if event[-13:] == \"print_coords-\":\n",
    "        chain_index = GUI.get_chain_index(event)\n",
    "        sg.cprint(\"\\n\")\n",
    "        sg.cprint(chain_objects[chain_index].coords)\n",
    "    # confirm all the chains at once\n",
    "    if event == \"-confirm_all_chains-\":\n",
    "        for chain_index in range(len(chain_objects)):\n",
    "            GUI.confirm_chain(chain_objects, chain_index, values)\n",
    "    # create a help window\n",
    "    if event == \"-help-\":\n",
    "        GUI.open_text_window(help_text,\"-help_window-\", title=\"Help Text\", size=(150,30))\n",
    "    # create a popout window version of the output box\n",
    "    if event == \"-output_popout-\":\n",
    "        GUI.open_text_window(GUI.output_multiline.get(), \"Expanded Output Textbox\", title=\"Expanded Output Textbox\")\n",
    "    # clear the output box\n",
    "    if event == \"-output_clear-\":\n",
    "        output_multiline.update(value=\"\")\n",
    "    # print the selected properties of all the chains to the output box\n",
    "    if event == \"-calculate_chain_properties-\":\n",
    "        GUI.calculate_chain_properties(chain_objects, values)\n",
    "    # save the current properties to a .csv file\n",
    "    if event == \"-save_chain_properties-\":\n",
    "        GUI.save_chain_properties(chain_objects, values)\n",
    "window.close()\n"
   ]
  },
  {
   "cell_type": "code",
   "execution_count": null,
   "id": "f9a8691b",
   "metadata": {},
   "outputs": [],
   "source": []
  }
 ],
 "metadata": {
  "kernelspec": {
   "display_name": "Python 3 (ipykernel)",
   "language": "python",
   "name": "python3"
  },
  "language_info": {
   "codemirror_mode": {
    "name": "ipython",
    "version": 3
   },
   "file_extension": ".py",
   "mimetype": "text/x-python",
   "name": "python",
   "nbconvert_exporter": "python",
   "pygments_lexer": "ipython3",
   "version": "3.9.6"
  }
 },
 "nbformat": 4,
 "nbformat_minor": 5
}
